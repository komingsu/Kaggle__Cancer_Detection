{
 "cells": [
  {
   "cell_type": "markdown",
   "id": "a86c1765",
   "metadata": {},
   "source": [
    "# 준비"
   ]
  },
  {
   "cell_type": "markdown",
   "id": "a0193eb0",
   "metadata": {},
   "source": [
    "## 데이터셋 다운로드"
   ]
  },
  {
   "cell_type": "code",
   "execution_count": 2,
   "id": "ec6dc671",
   "metadata": {
    "ExecuteTime": {
     "end_time": "2022-09-14T16:11:52.096835Z",
     "start_time": "2022-09-14T16:11:51.981402Z"
    }
   },
   "outputs": [],
   "source": [
    "import kaggle"
   ]
  },
  {
   "cell_type": "code",
   "execution_count": 4,
   "id": "e1831d0a",
   "metadata": {
    "ExecuteTime": {
     "end_time": "2022-09-14T16:46:57.298680Z",
     "start_time": "2022-09-14T16:46:57.283676Z"
    },
    "scrolled": false
   },
   "outputs": [],
   "source": [
    "# !kaggle competitions download -c histopathologic-cancer-detection"
   ]
  },
  {
   "cell_type": "markdown",
   "id": "09902933",
   "metadata": {},
   "source": [
    "## 라이브러리 호출"
   ]
  },
  {
   "cell_type": "code",
   "execution_count": 1,
   "id": "a17ea0fe",
   "metadata": {
    "ExecuteTime": {
     "end_time": "2022-09-14T17:33:20.235663Z",
     "start_time": "2022-09-14T17:33:17.556385Z"
    }
   },
   "outputs": [],
   "source": [
    "import tensorflow as tf\n",
    "import tensorflow_io as tfio\n",
    "import numpy as np\n",
    "import pandas as pd"
   ]
  },
  {
   "cell_type": "markdown",
   "id": "a43c1b9d",
   "metadata": {},
   "source": [
    "## 데이터 info"
   ]
  },
  {
   "cell_type": "code",
   "execution_count": 2,
   "id": "af6721cd",
   "metadata": {
    "ExecuteTime": {
     "end_time": "2022-09-14T17:33:25.060127Z",
     "start_time": "2022-09-14T17:33:24.816777Z"
    }
   },
   "outputs": [
    {
     "data": {
      "text/html": [
       "<div>\n",
       "<style scoped>\n",
       "    .dataframe tbody tr th:only-of-type {\n",
       "        vertical-align: middle;\n",
       "    }\n",
       "\n",
       "    .dataframe tbody tr th {\n",
       "        vertical-align: top;\n",
       "    }\n",
       "\n",
       "    .dataframe thead th {\n",
       "        text-align: right;\n",
       "    }\n",
       "</style>\n",
       "<table border=\"1\" class=\"dataframe\">\n",
       "  <thead>\n",
       "    <tr style=\"text-align: right;\">\n",
       "      <th></th>\n",
       "      <th>id</th>\n",
       "      <th>label</th>\n",
       "    </tr>\n",
       "  </thead>\n",
       "  <tbody>\n",
       "    <tr>\n",
       "      <th>0</th>\n",
       "      <td>D:Dataset/dataset/Kaggle/histopathologic-cance...</td>\n",
       "      <td>0</td>\n",
       "    </tr>\n",
       "    <tr>\n",
       "      <th>1</th>\n",
       "      <td>D:Dataset/dataset/Kaggle/histopathologic-cance...</td>\n",
       "      <td>1</td>\n",
       "    </tr>\n",
       "    <tr>\n",
       "      <th>2</th>\n",
       "      <td>D:Dataset/dataset/Kaggle/histopathologic-cance...</td>\n",
       "      <td>0</td>\n",
       "    </tr>\n",
       "    <tr>\n",
       "      <th>3</th>\n",
       "      <td>D:Dataset/dataset/Kaggle/histopathologic-cance...</td>\n",
       "      <td>0</td>\n",
       "    </tr>\n",
       "    <tr>\n",
       "      <th>4</th>\n",
       "      <td>D:Dataset/dataset/Kaggle/histopathologic-cance...</td>\n",
       "      <td>0</td>\n",
       "    </tr>\n",
       "    <tr>\n",
       "      <th>...</th>\n",
       "      <td>...</td>\n",
       "      <td>...</td>\n",
       "    </tr>\n",
       "    <tr>\n",
       "      <th>220020</th>\n",
       "      <td>D:Dataset/dataset/Kaggle/histopathologic-cance...</td>\n",
       "      <td>0</td>\n",
       "    </tr>\n",
       "    <tr>\n",
       "      <th>220021</th>\n",
       "      <td>D:Dataset/dataset/Kaggle/histopathologic-cance...</td>\n",
       "      <td>1</td>\n",
       "    </tr>\n",
       "    <tr>\n",
       "      <th>220022</th>\n",
       "      <td>D:Dataset/dataset/Kaggle/histopathologic-cance...</td>\n",
       "      <td>0</td>\n",
       "    </tr>\n",
       "    <tr>\n",
       "      <th>220023</th>\n",
       "      <td>D:Dataset/dataset/Kaggle/histopathologic-cance...</td>\n",
       "      <td>0</td>\n",
       "    </tr>\n",
       "    <tr>\n",
       "      <th>220024</th>\n",
       "      <td>D:Dataset/dataset/Kaggle/histopathologic-cance...</td>\n",
       "      <td>1</td>\n",
       "    </tr>\n",
       "  </tbody>\n",
       "</table>\n",
       "<p>220025 rows × 2 columns</p>\n",
       "</div>"
      ],
      "text/plain": [
       "                                                       id  label\n",
       "0       D:Dataset/dataset/Kaggle/histopathologic-cance...      0\n",
       "1       D:Dataset/dataset/Kaggle/histopathologic-cance...      1\n",
       "2       D:Dataset/dataset/Kaggle/histopathologic-cance...      0\n",
       "3       D:Dataset/dataset/Kaggle/histopathologic-cance...      0\n",
       "4       D:Dataset/dataset/Kaggle/histopathologic-cance...      0\n",
       "...                                                   ...    ...\n",
       "220020  D:Dataset/dataset/Kaggle/histopathologic-cance...      0\n",
       "220021  D:Dataset/dataset/Kaggle/histopathologic-cance...      1\n",
       "220022  D:Dataset/dataset/Kaggle/histopathologic-cance...      0\n",
       "220023  D:Dataset/dataset/Kaggle/histopathologic-cance...      0\n",
       "220024  D:Dataset/dataset/Kaggle/histopathologic-cance...      1\n",
       "\n",
       "[220025 rows x 2 columns]"
      ]
     },
     "metadata": {},
     "output_type": "display_data"
    }
   ],
   "source": [
    "all_data = pd.read_csv(\"D:Dataset/dataset/Kaggle/histopathologic-cancer-detection/train_labels.csv\")\n",
    "\n",
    "def id_path(x):\n",
    "    return \"D:Dataset/dataset/Kaggle/histopathologic-cancer-detection/train/\"+x+\".tif\"\n",
    "\n",
    "all_data[\"id\"] = all_data[\"id\"].apply(id_path)\n",
    "display(all_data)"
   ]
  },
  {
   "cell_type": "code",
   "execution_count": 3,
   "id": "4e451142",
   "metadata": {
    "ExecuteTime": {
     "end_time": "2022-09-14T17:33:50.262176Z",
     "start_time": "2022-09-14T17:33:49.501724Z"
    }
   },
   "outputs": [
    {
     "name": "stdout",
     "output_type": "stream",
     "text": [
      "all_data counts : 220025\n",
      "all_data[0] sample : D:Dataset/dataset/Kaggle/histopathologic-cancer-detection/train\\00001b2b5609af42ab0ab276dd4cd41c3e7745b5.tif\n"
     ]
    }
   ],
   "source": [
    "from glob import glob\n",
    "all_data_path = glob(\"D:Dataset/dataset/Kaggle/histopathologic-cancer-detection/train/*\")\n",
    "print(\"all_data counts :\", len(all_data_path))\n",
    "print(\"all_data[0] sample :\", all_data_path[0])"
   ]
  },
  {
   "cell_type": "code",
   "execution_count": 5,
   "id": "2e3dcff3",
   "metadata": {
    "ExecuteTime": {
     "end_time": "2022-09-14T17:34:17.020978Z",
     "start_time": "2022-09-14T17:34:16.940960Z"
    }
   },
   "outputs": [
    {
     "name": "stdout",
     "output_type": "stream",
     "text": [
      "train_data.shape :  (198022, 2)\n",
      "valid_data.shape :  (22003, 2)\n"
     ]
    },
    {
     "data": {
      "text/html": [
       "<div>\n",
       "<style scoped>\n",
       "    .dataframe tbody tr th:only-of-type {\n",
       "        vertical-align: middle;\n",
       "    }\n",
       "\n",
       "    .dataframe tbody tr th {\n",
       "        vertical-align: top;\n",
       "    }\n",
       "\n",
       "    .dataframe thead th {\n",
       "        text-align: right;\n",
       "    }\n",
       "</style>\n",
       "<table border=\"1\" class=\"dataframe\">\n",
       "  <thead>\n",
       "    <tr style=\"text-align: right;\">\n",
       "      <th></th>\n",
       "      <th>id</th>\n",
       "      <th>label</th>\n",
       "    </tr>\n",
       "  </thead>\n",
       "  <tbody>\n",
       "    <tr>\n",
       "      <th>27656</th>\n",
       "      <td>D:Dataset/dataset/Kaggle/histopathologic-cance...</td>\n",
       "      <td>0</td>\n",
       "    </tr>\n",
       "    <tr>\n",
       "      <th>170078</th>\n",
       "      <td>D:Dataset/dataset/Kaggle/histopathologic-cance...</td>\n",
       "      <td>0</td>\n",
       "    </tr>\n",
       "    <tr>\n",
       "      <th>136124</th>\n",
       "      <td>D:Dataset/dataset/Kaggle/histopathologic-cance...</td>\n",
       "      <td>0</td>\n",
       "    </tr>\n",
       "    <tr>\n",
       "      <th>151390</th>\n",
       "      <td>D:Dataset/dataset/Kaggle/histopathologic-cance...</td>\n",
       "      <td>1</td>\n",
       "    </tr>\n",
       "    <tr>\n",
       "      <th>94886</th>\n",
       "      <td>D:Dataset/dataset/Kaggle/histopathologic-cance...</td>\n",
       "      <td>0</td>\n",
       "    </tr>\n",
       "    <tr>\n",
       "      <th>...</th>\n",
       "      <td>...</td>\n",
       "      <td>...</td>\n",
       "    </tr>\n",
       "    <tr>\n",
       "      <th>101866</th>\n",
       "      <td>D:Dataset/dataset/Kaggle/histopathologic-cance...</td>\n",
       "      <td>0</td>\n",
       "    </tr>\n",
       "    <tr>\n",
       "      <th>20635</th>\n",
       "      <td>D:Dataset/dataset/Kaggle/histopathologic-cance...</td>\n",
       "      <td>0</td>\n",
       "    </tr>\n",
       "    <tr>\n",
       "      <th>11131</th>\n",
       "      <td>D:Dataset/dataset/Kaggle/histopathologic-cance...</td>\n",
       "      <td>0</td>\n",
       "    </tr>\n",
       "    <tr>\n",
       "      <th>105157</th>\n",
       "      <td>D:Dataset/dataset/Kaggle/histopathologic-cance...</td>\n",
       "      <td>1</td>\n",
       "    </tr>\n",
       "    <tr>\n",
       "      <th>82935</th>\n",
       "      <td>D:Dataset/dataset/Kaggle/histopathologic-cance...</td>\n",
       "      <td>0</td>\n",
       "    </tr>\n",
       "  </tbody>\n",
       "</table>\n",
       "<p>198022 rows × 2 columns</p>\n",
       "</div>"
      ],
      "text/plain": [
       "                                                       id  label\n",
       "27656   D:Dataset/dataset/Kaggle/histopathologic-cance...      0\n",
       "170078  D:Dataset/dataset/Kaggle/histopathologic-cance...      0\n",
       "136124  D:Dataset/dataset/Kaggle/histopathologic-cance...      0\n",
       "151390  D:Dataset/dataset/Kaggle/histopathologic-cance...      1\n",
       "94886   D:Dataset/dataset/Kaggle/histopathologic-cance...      0\n",
       "...                                                   ...    ...\n",
       "101866  D:Dataset/dataset/Kaggle/histopathologic-cance...      0\n",
       "20635   D:Dataset/dataset/Kaggle/histopathologic-cance...      0\n",
       "11131   D:Dataset/dataset/Kaggle/histopathologic-cance...      0\n",
       "105157  D:Dataset/dataset/Kaggle/histopathologic-cance...      1\n",
       "82935   D:Dataset/dataset/Kaggle/histopathologic-cance...      0\n",
       "\n",
       "[198022 rows x 2 columns]"
      ]
     },
     "metadata": {},
     "output_type": "display_data"
    }
   ],
   "source": [
    "from sklearn.model_selection import train_test_split as tts\n",
    "train_data, valid_data = tts(all_data, test_size=0.1, stratify=all_data[\"label\"], shuffle=True, random_state=905)\n",
    "print(\"train_data.shape : \", train_data.shape)\n",
    "print(\"valid_data.shape : \", valid_data.shape)\n",
    "display(train_data)"
   ]
  },
  {
   "cell_type": "markdown",
   "id": "c3011f7b",
   "metadata": {},
   "source": [
    "## 데이터 셋"
   ]
  },
  {
   "cell_type": "code",
   "execution_count": 30,
   "id": "363c6a45",
   "metadata": {
    "ExecuteTime": {
     "end_time": "2022-09-14T17:58:55.912402Z",
     "start_time": "2022-09-14T17:58:55.900399Z"
    }
   },
   "outputs": [],
   "source": [
    "from PIL import Image\n",
    "import cv2\n",
    "from numpy import random"
   ]
  },
  {
   "cell_type": "markdown",
   "id": "aec7d3ec",
   "metadata": {},
   "source": [
    "resize, horizontal_filp, crop, vertical_filp, rotate, hue, contrast"
   ]
  },
  {
   "cell_type": "code",
   "execution_count": 32,
   "id": "3283484b",
   "metadata": {
    "ExecuteTime": {
     "end_time": "2022-09-14T17:59:13.361421Z",
     "start_time": "2022-09-14T17:59:13.347846Z"
    }
   },
   "outputs": [],
   "source": [
    "def do_random_flip(image):\n",
    "    if np.random.rand()>0.5:\n",
    "        image = cv2.flip(image,0)\n",
    "    if np.random.rand()>0.5:\n",
    "        image = cv2.flip(image,1)\n",
    "    if np.random.rand()>0.5:\n",
    "        image = image.transpose(1,0,2) # y=x 대칭 #(0,1,2)->(1,0,2)\n",
    "    image = np.ascontiguousarray(image)\n",
    "    return image\n",
    "\n",
    "def do_random_rot90(image):\n",
    "    r = np.random.choice([\n",
    "        0,\n",
    "        cv2.ROTATE_90_CLOCKWISE,\n",
    "        cv2.ROTATE_90_COUNTERCLOCKWISE,\n",
    "        cv2.ROTATE_180,\n",
    "    ])\n",
    "    if r==0:\n",
    "        return image\n",
    "    else:\n",
    "        image = cv2.rotate(image, r)\n",
    "        return image\n",
    "        \n",
    "def do_random_contast(image, mag=0.3):\n",
    "    alpha = 1 + random.uniform(-1,1)*mag # -0.3 ~ 0.3 -> 0.7~1.3 \n",
    "    image = image * alpha\n",
    "    image = np.clip(image,0,1)\n",
    "    return image\n",
    "\n",
    "def do_random_hsv(image, mag=[0.15,0.25,0.25]):\n",
    "    image = (image*255).astype(np.uint8)\n",
    "    hsv = cv2.cvtColor(image, cv2.COLOR_BGR2HSV)\n",
    "\n",
    "    h = hsv[:, :, 0].astype(np.float32)  # hue\n",
    "    s = hsv[:, :, 1].astype(np.float32)  # saturation\n",
    "    v = hsv[:, :, 2].astype(np.float32)  # value\n",
    "    h = (h*(1 + random.uniform(-1,1)*mag[0]))%180\n",
    "    s =  s*(1 + random.uniform(-1,1)*mag[1])\n",
    "    v =  v*(1 + random.uniform(-1,1)*mag[2])\n",
    "\n",
    "    hsv[:, :, 0] = np.clip(h,0,180).astype(np.uint8)\n",
    "    hsv[:, :, 1] = np.clip(s,0,255).astype(np.uint8)\n",
    "    hsv[:, :, 2] = np.clip(v,0,255).astype(np.uint8)\n",
    "    image = cv2.cvtColor(hsv, cv2.COLOR_HSV2BGR)\n",
    "    image = image.astype(np.float32)/255\n",
    "    return image\n",
    "\n",
    "def do_random_noise(image, mag=0.1):\n",
    "    height, width = image.shape[:2]\n",
    "    noise = np.random.uniform(-1,1, (height, width,1))*mag\n",
    "    image = image + noise\n",
    "    image = np.clip(image,0,1)\n",
    "    return image\n",
    "\n",
    "def do_random_rotate_scale(image, angle=30, scale=[0.8,1.2] ):\n",
    "    angle = np.random.uniform(-angle, angle)\n",
    "    scale = np.random.uniform(*scale) if scale is not None else 1\n",
    "    \n",
    "    height, width = image.shape[:2]\n",
    "    center = (height // 2, width // 2)\n",
    "    \n",
    "    transform = cv2.getRotationMatrix2D(center, angle, scale)\n",
    "    image = cv2.warpAffine( image, transform, (width, height), flags=cv2.INTER_LINEAR,\n",
    "                            borderMode=cv2.BORDER_CONSTANT, borderValue=(0,0,0))\n",
    "    return image"
   ]
  },
  {
   "cell_type": "code",
   "execution_count": 33,
   "id": "a2487e8f",
   "metadata": {
    "ExecuteTime": {
     "end_time": "2022-09-14T17:59:13.812495Z",
     "start_time": "2022-09-14T17:59:13.796976Z"
    }
   },
   "outputs": [],
   "source": [
    "def train_augment5b(image):\n",
    "    image = do_random_flip(image)\n",
    "    image = do_random_rot90(image)\n",
    "\n",
    "    for fn in np.random.choice([\n",
    "        lambda image: (image),\n",
    "        lambda image: do_random_noise(image, mag=0.1),\n",
    "        lambda image: do_random_contast(image, mag=0.40),\n",
    "        lambda image: do_random_hsv(image, mag=[0.40, 0.40, 0])\n",
    "    ], 2): image = fn(image)\n",
    "\n",
    "    for fn in np.random.choice([\n",
    "        lambda image: (image),\n",
    "        lambda image: do_random_rotate_scale(image, angle=45, scale=[0.50, 2.0]),\n",
    "    ], 1): image = fn(image)\n",
    "\n",
    "    return image"
   ]
  },
  {
   "cell_type": "code",
   "execution_count": 34,
   "id": "92800182",
   "metadata": {
    "ExecuteTime": {
     "end_time": "2022-09-14T17:59:14.378057Z",
     "start_time": "2022-09-14T17:59:14.359048Z"
    }
   },
   "outputs": [],
   "source": [
    "class ImageDataGenerator(tf.keras.utils.Sequence):\n",
    "    def __init__(self, df, batch_size=32, train=False):\n",
    "        self.df = df.reset_index(drop=True)\n",
    "        self.dim = img_size\n",
    "        self.train = train\n",
    "        self.batch_size = batch_size\n",
    "    \n",
    "    def __len__(self):\n",
    "        return np.ceil(len(self.df) / self.batch_size).astype(int)\n",
    "    \n",
    "    def on_epoch_end(self):\n",
    "        if self.train: #Reshuffle train on end of epoch\n",
    "            self.df = self.df.sample(frac=1.0).reset_index(drop=True)\n",
    "            \n",
    "    def __getitem__(self, idx):\n",
    "        batch_x = self.df.iloc[idx*self.batch_size:(idx+1)*self.batch_size].id.values # df[0:16].id , [16:32]\n",
    "        batch_y = self.df.iloc[idx*self.batch_size:(idx+1)*self.batch_size].label.values\n",
    "\n",
    "        X = np.zeros((batch_x.shape[0], self.dim, self.dim, 3))\n",
    "        Y = np.zeros((batch_x.shape[0]))\n",
    "\n",
    "        for i in range(batch_x.shape[0]):\n",
    "            image = Image.open(f\"{batch_x[i]}\")\n",
    "            image = image.resize((self.dim, self.dim))\n",
    "            image = np.array(image) / 255.\n",
    "            if train:\n",
    "                image = train_augment5b(image)\n",
    "            X[i] = image\n",
    "        \n",
    "        return X, batch_y"
   ]
  },
  {
   "cell_type": "code",
   "execution_count": 52,
   "id": "978f7894",
   "metadata": {
    "ExecuteTime": {
     "end_time": "2022-09-14T18:07:14.562241Z",
     "start_time": "2022-09-14T18:07:14.539233Z"
    }
   },
   "outputs": [],
   "source": [
    "batch_size=16\n",
    "img_size=224\n",
    "train_loader = ImageDataGenerator(train_data, batch_size, True)\n",
    "valid_loader = ImageDataGenerator(train_data, batch_size, False)"
   ]
  },
  {
   "cell_type": "code",
   "execution_count": 40,
   "id": "79eacac3",
   "metadata": {
    "ExecuteTime": {
     "end_time": "2022-09-14T18:00:04.437096Z",
     "start_time": "2022-09-14T18:00:04.361076Z"
    }
   },
   "outputs": [
    {
     "name": "stdout",
     "output_type": "stream",
     "text": [
      "(16, 224, 224, 3)\n",
      "(16,)\n"
     ]
    }
   ],
   "source": [
    "for x, y in train_loader:\n",
    "    print(x.shape)\n",
    "    print(y.shape)\n",
    "    break"
   ]
  },
  {
   "cell_type": "markdown",
   "id": "aac2aa2b",
   "metadata": {},
   "source": [
    "# 모델"
   ]
  },
  {
   "cell_type": "code",
   "execution_count": 65,
   "id": "8c949c6e",
   "metadata": {
    "ExecuteTime": {
     "end_time": "2022-09-14T18:11:09.292700Z",
     "start_time": "2022-09-14T18:11:09.277698Z"
    }
   },
   "outputs": [],
   "source": [
    "def build_model():\n",
    "    x = tf.keras.layers.Input(shape=(224,224,3))\n",
    "    base_model = tf.keras.applications.ResNet50(include_top=False)(x)\n",
    "    y = tf.keras.layers.GlobalAveragePooling2D()(base_model)\n",
    "    y = tf.keras.layers.Dense(64, activation=\"leaky_relu\")(y)\n",
    "    y = tf.keras.layers.Dense(1, activation=\"sigmoid\")(y)\n",
    "    \n",
    "    return tf.keras.models.Model(x,y)"
   ]
  },
  {
   "cell_type": "code",
   "execution_count": 66,
   "id": "481513d1",
   "metadata": {
    "ExecuteTime": {
     "end_time": "2022-09-14T18:11:10.900947Z",
     "start_time": "2022-09-14T18:11:09.655317Z"
    }
   },
   "outputs": [
    {
     "name": "stdout",
     "output_type": "stream",
     "text": [
      "Model: \"model_3\"\n",
      "_________________________________________________________________\n",
      " Layer (type)                Output Shape              Param #   \n",
      "=================================================================\n",
      " input_15 (InputLayer)       [(None, 224, 224, 3)]     0         \n",
      "                                                                 \n",
      " resnet50 (Functional)       (None, None, None, 2048)  23587712  \n",
      "                                                                 \n",
      " global_average_pooling2d_1   (None, 2048)             0         \n",
      " (GlobalAveragePooling2D)                                        \n",
      "                                                                 \n",
      " dense_9 (Dense)             (None, 64)                131136    \n",
      "                                                                 \n",
      " dense_10 (Dense)            (None, 1)                 65        \n",
      "                                                                 \n",
      "=================================================================\n",
      "Total params: 23,718,913\n",
      "Trainable params: 23,665,793\n",
      "Non-trainable params: 53,120\n",
      "_________________________________________________________________\n"
     ]
    }
   ],
   "source": [
    "model = build_model()\n",
    "model.summary()"
   ]
  },
  {
   "cell_type": "code",
   "execution_count": 69,
   "id": "eb8b0dcb",
   "metadata": {
    "ExecuteTime": {
     "end_time": "2022-09-14T18:13:31.988296Z",
     "start_time": "2022-09-14T18:13:31.886745Z"
    }
   },
   "outputs": [],
   "source": [
    "import tensorflow_addons as tfa\n",
    "losses = tf.keras.losses.BinaryCrossentropy()\n",
    "optimizers = tfa.optimizers.AdamW(weight_decay=0.001, learning_rate=0.0001)"
   ]
  },
  {
   "cell_type": "code",
   "execution_count": 71,
   "id": "da42ab68",
   "metadata": {
    "ExecuteTime": {
     "end_time": "2022-09-14T19:47:03.997447Z",
     "start_time": "2022-09-14T18:15:37.342745Z"
    }
   },
   "outputs": [
    {
     "name": "stdout",
     "output_type": "stream",
     "text": [
      "Epoch 1/2\n",
      "12377/12377 [==============================] - 2768s 223ms/step - loss: 0.5196 - acc: 0.7469 - val_loss: 3.3693 - val_acc: 0.4050\n",
      "Epoch 2/2\n",
      "12377/12377 [==============================] - 2718s 220ms/step - loss: 0.5285 - acc: 0.7396 - val_loss: 1.5118 - val_acc: 0.5950\n"
     ]
    },
    {
     "data": {
      "text/plain": [
       "<keras.callbacks.History at 0x2a149fb6b20>"
      ]
     },
     "execution_count": 71,
     "metadata": {},
     "output_type": "execute_result"
    }
   ],
   "source": [
    "model.compile(loss=losses, optimizer=optimizers, metrics=[\"acc\"])\n",
    "model.fit(train_loader, epochs=2, validation_data=valid_loader)"
   ]
  },
  {
   "cell_type": "code",
   "execution_count": 72,
   "id": "6f7172e3",
   "metadata": {
    "ExecuteTime": {
     "end_time": "2022-09-15T00:14:19.043859Z",
     "start_time": "2022-09-15T00:14:18.387655Z"
    }
   },
   "outputs": [],
   "source": [
    "model.save(\"keep.h5\")"
   ]
  },
  {
   "cell_type": "code",
   "execution_count": null,
   "id": "25b7395a",
   "metadata": {},
   "outputs": [],
   "source": []
  }
 ],
 "metadata": {
  "kernelspec": {
   "display_name": "Python 3 (ipykernel)",
   "language": "python",
   "name": "python3"
  },
  "language_info": {
   "codemirror_mode": {
    "name": "ipython",
    "version": 3
   },
   "file_extension": ".py",
   "mimetype": "text/x-python",
   "name": "python",
   "nbconvert_exporter": "python",
   "pygments_lexer": "ipython3",
   "version": "3.9.0"
  },
  "toc": {
   "base_numbering": 1,
   "nav_menu": {},
   "number_sections": true,
   "sideBar": true,
   "skip_h1_title": false,
   "title_cell": "Table of Contents",
   "title_sidebar": "Contents",
   "toc_cell": false,
   "toc_position": {},
   "toc_section_display": true,
   "toc_window_display": false
  }
 },
 "nbformat": 4,
 "nbformat_minor": 5
}
